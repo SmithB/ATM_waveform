{
 "cells": [
  {
   "cell_type": "code",
   "execution_count": null,
   "id": "5fe50677-933d-49b1-bed4-a9eaeebd8ed3",
   "metadata": {},
   "outputs": [],
   "source": [
    "import numpy as np\n",
    "import os\n",
    "import re\n",
    "from to_nc import to_nc\n"
   ]
  },
  {
   "cell_type": "code",
   "execution_count": null,
   "id": "0c7447d6-f851-4b3e-b956-992dd7773245",
   "metadata": {},
   "outputs": [],
   "source": [
    "import scattering_delays as sd\n",
    "\n",
    "λ=532e-9\n",
    "ρ_s=400\n",
    "r_vals=np.logspace(-7, 0, 71)\n",
    "v=sd.v_eff(λ, ρ_s)\n",
    "LUT={}\n",
    "L_snow=np.zeros_like(r_vals)+np.NaN\n",
    "for kr, r in enumerate(r_vals):\n",
    "    # calculate the optical properties\n",
    "    mu_e, mu_s, mu_a, g = sd.optical_properties_pure_snow(r, λ, ρ_s, LUT=LUT)\n",
    "    L_snow[kr]=1/((1-g)*mu_s)\n",
    "L_air=3e8/v*L_snow\n",
    "\n",
    "L_vs_r = pc.data().from_dict({'r':r_vals,'L':L_air})\n",
    "L_vs_r.to_h5('L_vs_r.h5')"
   ]
  },
  {
   "cell_type": "code",
   "execution_count": null,
   "id": "a5bd9b00-37d4-4066-9535-a551d1417811",
   "metadata": {},
   "outputs": [],
   "source": [
    "import ATM_waveform  as aw\n",
    "\n",
    "D=aw.fit.data().from_h5('ILATMW1B_20170717_144930.atm6AT5.h5_q2_out.h5')\n",
    "D.assign(L_scat = np.interp(D.K0, L_vs_r.r, L_vs_r.L), shot_count = D.shot.copy())\n",
    "\n"
   ]
  },
  {
   "cell_type": "code",
   "execution_count": null,
   "id": "51e94d1f-eef1-4ce7-acee-783785774e32",
   "metadata": {},
   "outputs": [],
   "source": [
    "import csv\n",
    "meta_dict={}\n",
    "with open('waveform_archive_meta.csv','r') as fh:\n",
    "    reader = csv.DictReader(fh)\n",
    "    for row in reader:\n",
    "        for key, val in row.items():\n",
    "            if val=='':\n",
    "                row[key]=None\n",
    "        meta_dict[row['name']]=row\n",
    "\n",
    "meta_dict['L_scat']={'name':'L_scat', 'Dimensions':'shot_count','Coordinate':'No',\n",
    "                     'description': 'Effective distance in air traveled between isotropic scattering events for the best-fitting waveform',\n",
    "                     'units':'meters',\n",
    "                     'source_field':'',\n",
    "                     'group':None,\n",
    "                     'precision':'6'}\n"
   ]
  },
  {
   "cell_type": "code",
   "execution_count": null,
   "id": "2a1f4197-6e6b-49cc-8b38-5db9c9744c93",
   "metadata": {},
   "outputs": [],
   "source": [
    "\n",
    "\n",
    "## test code\n",
    "import ATM_waveform  as aw\n",
    "import pointCollection as pc\n",
    "\n",
    "in_file=        'ILATMW1B_20170717_144930.atm6AT5.h5_q2_out.h5'\n",
    "out_file ='ATM_gs_'+in_file.split('.h5')[0]+'.nc'\n",
    "\n",
    "\n",
    "if os.path.isfile(out_file):\n",
    "    os.remove(out_file)\n",
    "\n",
    "D=aw.fit.data().from_h5('ILATMW1B_20170717_144930.atm6AT5.h5_q2_out.h5')\n",
    "\n",
    "import csv\n",
    "meta_dict={}\n",
    "with open('waveform_archive_meta.csv','r') as fh:\n",
    "    reader = csv.DictReader(fh)\n",
    "    for row in reader:\n",
    "        for key, val in row.items():\n",
    "            if val=='':\n",
    "                row[key]=None\n",
    "        meta_dict[row['name']]=row\n",
    "\n",
    "time_re=re.compile('_(\\d\\d\\d\\d)(\\d\\d)(\\d\\d)')\n",
    "date=list(time_re.search(D.filename).groups())\n",
    "meta_dict['time']['units']=f'seconds since {\".\".join(date)} 00:00:00'\n",
    "\n",
    "# add in the scattering_time variable\n",
    "D.assign(L_scat = np.interp(D.K0, L_vs_r.r, L_vs_r.L), shot_count = D.shot.copy())\n",
    "\n",
    "meta_dict['L_scat']={'name':'L_scat', 'Dimensions':'shot_count','Coordinate':'No',\n",
    "                     'description': 'Effective distance between isotropic scattering events for the best-fitting waveform, calculated assuming that photons are traveling in air.',\n",
    "                     'units':'meters',\n",
    "                     'source_field':'',\n",
    "                     'group':None,\n",
    "                     'precision':'6'}\n",
    "\n",
    "to_nc(D, out_file, replace=True, meta_dict_file=None, \n",
    "          meta_dict=meta_dict, group_attrs=None, group='')\n"
   ]
  },
  {
   "cell_type": "code",
   "execution_count": null,
   "id": "a47cbaa6-e397-444c-b4b9-93f9d576a276",
   "metadata": {},
   "outputs": [],
   "source": []
  },
  {
   "cell_type": "code",
   "execution_count": null,
   "id": "0042e1b5-fcad-4b03-84f9-43cf2e7d4ba3",
   "metadata": {},
   "outputs": [],
   "source": [
    "import xarray as xr\n",
    "ds=xr.open_dataset('ATM_gs_ILATMW1B_20170717_144930.atm6AT5.nc', group='', decode_timedelta=False)\n",
    "ds"
   ]
  },
  {
   "cell_type": "code",
   "execution_count": null,
   "id": "5a167e3b-f1e8-4f31-96a7-571a112e975e",
   "metadata": {},
   "outputs": [],
   "source": []
  },
  {
   "cell_type": "code",
   "execution_count": null,
   "id": "7aec3a3c-a57a-44aa-8872-d9ada80e8029",
   "metadata": {},
   "outputs": [],
   "source": [
    "import datetime\n",
    "(np.array(ds.time[0:10])-np.datetime64(datetime.datetime(2018, 1, 1))).astype(float)/24/365.25/3600/1.e9+2018"
   ]
  },
  {
   "cell_type": "code",
   "execution_count": null,
   "id": "6dd8f307-8574-4699-bf97-900d6a8400ce",
   "metadata": {},
   "outputs": [],
   "source": [
    "import matplotlib.pyplot as plt\n",
    "plt.figure()\n",
    "plt.hist(np.log10(np.maximum(1.e-7, np.array(ds.sigma).astype(float))), 200);\n",
    "plt.gca().set_yscale('log')"
   ]
  },
  {
   "cell_type": "code",
   "execution_count": null,
   "id": "606be082-89a3-484d-92f9-7943e91a6d6b",
   "metadata": {},
   "outputs": [],
   "source": [
    "np.unique(np.array(ds.sigma).astype(float))"
   ]
  },
  {
   "cell_type": "code",
   "execution_count": null,
   "id": "bee2f05a-1ee0-40fb-bfea-fa2859924a83",
   "metadata": {},
   "outputs": [],
   "source": []
  }
 ],
 "metadata": {
  "kernelspec": {
   "display_name": "devel",
   "language": "python",
   "name": "devel"
  },
  "language_info": {
   "codemirror_mode": {
    "name": "ipython",
    "version": 3
   },
   "file_extension": ".py",
   "mimetype": "text/x-python",
   "name": "python",
   "nbconvert_exporter": "python",
   "pygments_lexer": "ipython3",
   "version": "3.11.6"
  }
 },
 "nbformat": 4,
 "nbformat_minor": 5
}
